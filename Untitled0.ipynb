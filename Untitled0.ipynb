{
  "cells": [
    {
      "cell_type": "code",
      "execution_count": 1,
      "metadata": {
        "colab": {
          "base_uri": "https://localhost:8080/"
        },
        "id": "9gzxdQrcNpwH",
        "outputId": "9dbf9804-2948-4688-8eb7-d922c813465d"
      },
      "outputs": [
        {
          "output_type": "stream",
          "name": "stdout",
          "text": [
            "Mounted at /content/drive\n"
          ]
        }
      ],
      "source": [
        "from google.colab import drive\n",
        "drive.mount('/content/drive')"
      ]
    },
    {
      "cell_type": "code",
      "source": [],
      "metadata": {
        "id": "xG3Bjc5wgAwR"
      },
      "execution_count": null,
      "outputs": []
    },
    {
      "cell_type": "code",
      "execution_count": 2,
      "metadata": {
        "collapsed": true,
        "id": "1hQ_KeGVa1d1"
      },
      "outputs": [],
      "source": [
        "# Importing the libraries\n",
        "\n",
        "# Libraries used for the preprocessing of the data\n",
        "from sklearn.preprocessing import PowerTransformer, StandardScaler, LabelEncoder, Normalizer\n",
        "from imblearn.over_sampling import SMOTE\n",
        "from imblearn.under_sampling import RandomUnderSampler\n",
        "from sklearn.feature_selection import SelectKBest, f_classif\n",
        "from sklearn.model_selection import train_test_split\n",
        "\n",
        "# Making the graphs\n",
        "import matplotlib.pyplot as plt\n",
        "\n",
        "# Data format libraries\n",
        "import numpy as np\n",
        "import pandas as pd\n",
        "\n",
        "# Used for evaluation of the features extracted by ANOVA\n",
        "# This is done to select the optimum number of features\n",
        "from sklearn.tree import DecisionTreeClassifier\n",
        "from sklearn.metrics import accuracy_score\n",
        "\n",
        "# Neural Networks libraries\n",
        "from keras.models import Sequential\n",
        "from keras.layers import Dense, Dropout\n",
        "from keras.losses import sparse_categorical_crossentropy\n",
        "import tensorflow as tf\n",
        "\n",
        "# Used to save Normalizer and PowerTransformer\n",
        "import joblib\n",
        "\n",
        "# Metrics used for the evaluation of the models\n",
        "# The accuracy score is also used but it can be seen further up where\n",
        "# the libraries for ANOVA, it is used for feature extraction\n",
        "from sklearn.metrics import recall_score\n",
        "from sklearn.metrics import multilabel_confusion_matrix\n",
        "from sklearn.metrics import f1_score\n",
        "from sklearn.metrics import precision_score\n",
        "\n",
        "# Libraries used for the construction of the confusion matrix figures\n",
        "# Pandas and Matplotlib are also used but they are imported further up\n",
        "import seaborn as sns"
      ]
    },
    {
      "cell_type": "code",
      "source": [
        "!pip install fast_ml\n",
        "# Methods used cleansing constant and quasi-constant features\n",
        "from fast_ml.utilities import display_all, reduce_memory_usage\n",
        "from fast_ml.feature_selection import get_constant_features"
      ],
      "metadata": {
        "colab": {
          "base_uri": "https://localhost:8080/"
        },
        "id": "qavfW9G8gG1-",
        "outputId": "f3eb6fde-43e0-427e-83ad-b1651be616ae"
      },
      "execution_count": 3,
      "outputs": [
        {
          "output_type": "stream",
          "name": "stdout",
          "text": [
            "Collecting fast_ml\n",
            "  Downloading fast_ml-3.68-py3-none-any.whl (42 kB)\n",
            "\u001b[?25l     \u001b[90m━━━━━━━━━━━━━━━━━━━━━━━━━━━━━━━━━━━━━━━━\u001b[0m \u001b[32m0.0/42.1 kB\u001b[0m \u001b[31m?\u001b[0m eta \u001b[36m-:--:--\u001b[0m\r\u001b[2K     \u001b[90m━━━━━━━━━━━━━━━━━━━━━━━━━━━━━━━━━━━━━━━━\u001b[0m \u001b[32m42.1/42.1 kB\u001b[0m \u001b[31m1.4 MB/s\u001b[0m eta \u001b[36m0:00:00\u001b[0m\n",
            "\u001b[?25hInstalling collected packages: fast_ml\n",
            "Successfully installed fast_ml-3.68\n"
          ]
        }
      ]
    },
    {
      "cell_type": "code",
      "execution_count": 4,
      "metadata": {
        "id": "KvcX06ShRIjS"
      },
      "outputs": [],
      "source": [
        "import numpy as np\n",
        "import pandas as pd\n",
        "from sklearn.model_selection import train_test_split\n",
        "from sklearn.preprocessing import MinMaxScaler\n",
        "from tensorflow.keras.models import Sequential\n",
        "from tensorflow.keras.layers import LSTM, GRU, Dense\n",
        "from tensorflow.keras.models import Sequential\n",
        "from tensorflow.keras.layers import LSTM, GRU, Dense\n",
        "from sklearn.model_selection import train_test_split\n",
        "import numpy as np\n",
        "\n",
        "# Load your CSV file\n",
        "csv_file_path = '/content/drive/MyDrive/project/rating.csv'\n",
        "df = pd.read_csv(csv_file_path)\n",
        "\n",
        "# Extract features and target variables\n"
      ]
    },
    {
      "cell_type": "code",
      "source": [
        "frame = df\n",
        "frame.to_csv('/content/drive/MyDrive/project/frame.csv')"
      ],
      "metadata": {
        "id": "lAgfS62JgSI2"
      },
      "execution_count": null,
      "outputs": []
    },
    {
      "cell_type": "code",
      "source": [
        "# Constant features\n",
        "constant_features = get_constant_features(frame)\n",
        "constant_features_list = constant_features.query(\"Desc=='Constant'\")['Var'].to_list()\n",
        "print(constant_features_list)"
      ],
      "metadata": {
        "colab": {
          "base_uri": "https://localhost:8080/"
        },
        "id": "t742fXK-gmkm",
        "outputId": "84930922-fd4f-4eae-f990-ffd49821f92a"
      },
      "execution_count": null,
      "outputs": [
        {
          "output_type": "stream",
          "name": "stdout",
          "text": [
            "[]\n"
          ]
        }
      ]
    },
    {
      "cell_type": "code",
      "source": [
        "def new_dataset(dataset, anova_res):\n",
        "    train_output = dataset\n",
        "\n",
        "    for anova_column in range(len(anova_res)):\n",
        "        print(anova_res[anova_column])\n",
        "        # Removing the feature from the inputted dataset\n",
        "        dataset = dataset.drop(anova_res[anova_column], axis=1)\n",
        "\n",
        "    # Dropping the remaining features\n",
        "    train_output = train_output.drop(dataset.columns, axis=1)\n",
        "\n",
        "    return train_output"
      ],
      "metadata": {
        "id": "CbupsN4KgqOh"
      },
      "execution_count": null,
      "outputs": []
    },
    {
      "cell_type": "code",
      "source": [
        "\n",
        "def new_dataset_remove(dataset, anova_res):\n",
        "\n",
        "    for anova_column in range(len(anova_res)):\n",
        "        print(anova_res[anova_column])\n",
        "        # Removing the feature from the inputted dataset\n",
        "        dataset = dataset.drop(anova_res[anova_column], axis=1)\n",
        "\n",
        "    return dataset"
      ],
      "metadata": {
        "id": "DiEWY9slgtNZ"
      },
      "execution_count": null,
      "outputs": []
    },
    {
      "cell_type": "code",
      "source": [
        "new_frame = new_dataset_remove(frame, constant_features_list)\n",
        "print(new_frame.columns)"
      ],
      "metadata": {
        "colab": {
          "base_uri": "https://localhost:8080/"
        },
        "id": "qBVh-LPngv25",
        "outputId": "ebbc9ed7-735f-4c39-c480-3e3aef74a542"
      },
      "execution_count": null,
      "outputs": [
        {
          "output_type": "stream",
          "name": "stdout",
          "text": [
            "Index(['rank', 'oldRating', 'newRating', 'participant'], dtype='object')\n"
          ]
        }
      ]
    },
    {
      "cell_type": "code",
      "source": [
        "# detecting quasi-constant features\n",
        "quasi_constant_features_list = constant_features.query(\"Desc=='Quasi Constant'\")['Var'].to_list()\n",
        "print(quasi_constant_features_list)"
      ],
      "metadata": {
        "colab": {
          "base_uri": "https://localhost:8080/"
        },
        "id": "VnEfxtGJg0Tp",
        "outputId": "3c2e358c-9cac-44f9-b598-72ba6b10a7ae"
      },
      "execution_count": null,
      "outputs": [
        {
          "output_type": "stream",
          "name": "stdout",
          "text": [
            "[]\n"
          ]
        }
      ]
    },
    {
      "cell_type": "code",
      "source": [
        "new_frame_final = new_dataset_remove(new_frame, quasi_constant_features_list)"
      ],
      "metadata": {
        "id": "Q0gV025Gg3en"
      },
      "execution_count": null,
      "outputs": []
    },
    {
      "cell_type": "code",
      "source": [
        "new_frame_final.to_csv('/content/drive/MyDrive/project/cleaned_data.csv')"
      ],
      "metadata": {
        "id": "mFSYe5z2g6Yu"
      },
      "execution_count": null,
      "outputs": []
    },
    {
      "cell_type": "code",
      "source": [
        "print(len(new_frame_final.columns))\n",
        "print(len(frame.columns))"
      ],
      "metadata": {
        "colab": {
          "base_uri": "https://localhost:8080/"
        },
        "id": "EJiqYswQg_OF",
        "outputId": "e2c4c57c-1e23-4f2a-ea75-76537d18bf27"
      },
      "execution_count": null,
      "outputs": [
        {
          "output_type": "stream",
          "name": "stdout",
          "text": [
            "4\n",
            "4\n"
          ]
        }
      ]
    },
    {
      "cell_type": "code",
      "source": [
        "new_frame_final = pd.read_csv(r\"/content/drive/MyDrive/project/cleaned_data.csv\", index_col=\"Unnamed: 0\")\n",
        "new_frame_final = reduce_memory_usage(new_frame_final, convert_to_category=False)"
      ],
      "metadata": {
        "id": "jyiyWfAOhCtb"
      },
      "execution_count": null,
      "outputs": []
    },
    {
      "cell_type": "code",
      "source": [
        "X_train, X_test, y_train, y_test = train_test_split(new_frame_final.drop(\"newRating\", axis=1), new_frame_final[\"newRating\"], test_size = 0.2, random_state = 20)\n",
        "\n",
        "X_train, X_validation, y_train, y_validation = train_test_split(X_train, y_train, test_size=0.2, random_state=20)"
      ],
      "metadata": {
        "id": "c10az2aggP_2"
      },
      "execution_count": null,
      "outputs": []
    },
    {
      "cell_type": "code",
      "source": [
        "train_data = np.c_[X_train, y_train]\n",
        "test_data = np.c_[X_test, y_test]\n",
        "validate_data = np.c_[X_validation, y_validation]"
      ],
      "metadata": {
        "id": "yqGvk7dIhhF7"
      },
      "execution_count": null,
      "outputs": []
    },
    {
      "cell_type": "code",
      "source": [
        "df_train = pd.DataFrame(train_data, columns=new_frame_final.columns)\n",
        "df_test = pd.DataFrame(test_data, columns=new_frame_final.columns)\n",
        "df_validation = pd.DataFrame(validate_data, columns=new_frame_final.columns)"
      ],
      "metadata": {
        "id": "dmV6d4g3idpU"
      },
      "execution_count": null,
      "outputs": []
    },
    {
      "cell_type": "code",
      "source": [
        "\n",
        "df_train.to_csv('/content/drive/MyDrive/project/train_data.csv')\n",
        "df_test.to_csv('/content/drive/MyDrive/project/test_data.csv')\n",
        "df_validation.to_csv('/content/drive/MyDrive/project/validation_data.csv')"
      ],
      "metadata": {
        "id": "0VkmDPZGigb3"
      },
      "execution_count": null,
      "outputs": []
    },
    {
      "cell_type": "code",
      "source": [
        "encoder = LabelEncoder()\n",
        "encoder.fit(new_frame_final[\"newRating\"])\n",
        "np.save('/content/drive/MyDrive/project/classes.npy', encoder.classes_)"
      ],
      "metadata": {
        "id": "9E2N1SLtioEf"
      },
      "execution_count": null,
      "outputs": []
    },
    {
      "cell_type": "code",
      "source": [
        "df_train = pd.read_csv(r\"/content/drive/MyDrive/project/train_data.csv\", index_col=\"Unnamed: 0\")\n",
        "df_train = reduce_memory_usage(df_train, convert_to_category=False)\n",
        "\n",
        "df_test = pd.read_csv(r\"/content/drive/MyDrive/project/test_data.csv\", index_col=\"Unnamed: 0\")\n",
        "df_test = reduce_memory_usage(df_test, convert_to_category=False)\n",
        "\n",
        "df_validation = pd.read_csv(r\"/content/drive/MyDrive/project/validation_data.csv\", index_col=\"Unnamed: 0\")\n",
        "df_validation = reduce_memory_usage(df_validation, convert_to_category=False)\n",
        "\n",
        "encoder = LabelEncoder()\n",
        "encoder.classes_ = np.load('/content/drive/MyDrive/project/classes.npy', allow_pickle=True)"
      ],
      "metadata": {
        "id": "1PG8QiKOivPc"
      },
      "execution_count": null,
      "outputs": []
    },
    {
      "cell_type": "code",
      "source": [
        "from sklearn.preprocessing import LabelEncoder\n",
        "\n",
        "encoder = LabelEncoder()\n",
        "encoder.fit(df_train[\"newRating\"])\n",
        "\n",
        "df_test[\"newRating\"] = df_test[\"newRating\"].map(lambda s: 'unknown' if s not in encoder.classes_ else s)\n",
        "df_validation[\"newRating\"] = df_validation[\"newRating\"].map(lambda s: 'unknown' if s not in encoder.classes_ else s)\n"
      ],
      "metadata": {
        "id": "K47IsVT-i5gP"
      },
      "execution_count": null,
      "outputs": []
    },
    {
      "cell_type": "code",
      "source": [
        "from sklearn.preprocessing import StandardScaler\n",
        "\n",
        "standard = StandardScaler()\n",
        "\n",
        "y_value_train = standard.fit_transform(df_train.drop(\"newRating\", axis=1))\n",
        "y_value_test = standard.transform(df_test.drop(\"newRating\", axis=1))\n",
        "y_value_valid = standard.transform(df_validation.drop(\"newRating\", axis=1))\n"
      ],
      "metadata": {
        "id": "QupT13uPkDq7"
      },
      "execution_count": null,
      "outputs": []
    },
    {
      "cell_type": "code",
      "source": [
        "df_train = pd.DataFrame(np.c_[y_value_train, df_train[\"newRating\"]], columns=df_train.columns)\n",
        "df_train = reduce_memory_usage(df_train, convert_to_category=False)\n",
        "\n",
        "df_test = pd.DataFrame(np.c_[y_value_test, df_test[\"newRating\"]], columns=df_test.columns)\n",
        "df_test = reduce_memory_usage(df_test, convert_to_category=False)\n",
        "\n",
        "df_validation = pd.DataFrame(np.c_[y_value_valid, df_validation[\"newRating\"]], columns=df_validation.columns)\n",
        "df_validation = reduce_memory_usage(df_validation, convert_to_category=False)"
      ],
      "metadata": {
        "id": "7EH6HhbkkINP"
      },
      "execution_count": null,
      "outputs": []
    },
    {
      "cell_type": "code",
      "source": [
        "fs = SelectKBest(score_func=f_classif, k='all')  # k is the number of columns to be returned from this function\n",
        "\n",
        "y_train = df_train.iloc[:, [-1]]\n",
        "X_train = df_train.drop(y_train.columns, axis=1)\n",
        "\n",
        "y_test = df_test.iloc[:, [-1]]\n",
        "X_test = df_test.drop(y_test.columns, axis=1)\n",
        "\n",
        "y_valid = df_validation.iloc[:, [-1]]\n",
        "X_valid = df_validation.drop(y_valid.columns, axis=1)\n",
        "\n",
        "fs.fit_transform(X_train, y_train.values.ravel())\n",
        "fs.transform(X_test)\n",
        "fs.transform(X_valid)"
      ],
      "metadata": {
        "colab": {
          "base_uri": "https://localhost:8080/"
        },
        "id": "iNM_vq9KkRyh",
        "outputId": "299ddd0a-2b22-4453-cfbd-deca6c2acf04"
      },
      "execution_count": null,
      "outputs": [
        {
          "output_type": "execute_result",
          "data": {
            "text/plain": [
              "array([[ 0.2834 , -2.588  , -1.942  ],\n",
              "       [-1.18   ,  1.988  ,  2.44   ],\n",
              "       [-1.229  ,  1.839  ,  2.6    ],\n",
              "       ...,\n",
              "       [ 0.946  , -0.739  , -1.186  ],\n",
              "       [ 0.8247 , -0.3372 , -0.712  ],\n",
              "       [-0.2133 , -0.1702 , -0.04614]], dtype=float16)"
            ]
          },
          "metadata": {},
          "execution_count": 35
        }
      ]
    },
    {
      "cell_type": "code",
      "source": [
        "# Printing the results of the ANOVA F-test\n",
        "\n",
        "plt.bar([i for i in range(len(fs.scores_))], fs.scores_)\n",
        "\n",
        "plt.title(\"ANOVA test on all features\")\n",
        "plt.rcParams[\"figure.figsize\"] = (8,6.5)\n",
        "plt.xlabel(\"Features\")\n",
        "plt.ylabel(\"F-Test Result\")\n",
        "plt.savefig('/content/drive/MyDrive/project/AllFeatures')\n",
        "plt.show()"
      ],
      "metadata": {
        "colab": {
          "base_uri": "https://localhost:8080/",
          "height": 472
        },
        "id": "xWwdPwzPkXw0",
        "outputId": "6a4107f7-e6da-4ce2-8de9-49445d234b0f"
      },
      "execution_count": null,
      "outputs": [
        {
          "output_type": "display_data",
          "data": {
            "text/plain": [
              "<Figure size 640x480 with 1 Axes>"
            ],
            "image/png": "[encoded data removed]"
          },
          "metadata": {}
        }
      ]
    },
    {
      "cell_type": "code",
      "source": [
        "def selectKBest(train, test, valid, k):\n",
        "  sel = SelectKBest(score_func=f_classif, k=k)  # k is the number of columns to be returned from this function\n",
        "\n",
        "  # preparing the data for the application of ANOVA\n",
        "  y_train = train.iloc[:, [-1]]\n",
        "  X_train = train.drop(y_train.columns, axis=1)\n",
        "\n",
        "  y_test = test.iloc[:, [-1]]\n",
        "  X_test = test.drop(y_test.columns, axis=1)\n",
        "\n",
        "  y_valid = valid.iloc[:, [-1]]\n",
        "  X_valid = valid.drop(y_valid.columns, axis=1)\n",
        "\n",
        "  # Performing ANOVA F-test\n",
        "  sel.fit_transform(X_train, y_train.values.ravel())\n",
        "  sel.transform(X_test)\n",
        "  sel.transform(X_valid)\n",
        "\n",
        "  mask = sel.get_support()\n",
        "  new_features = []  # The list of your K best features\n",
        "\n",
        "  # creating the list of the selected features\n",
        "  for bool, feature in zip(mask, train.columns):\n",
        "    if bool:\n",
        "      new_features.append(feature)\n",
        "\n",
        "  return new_features"
      ],
      "metadata": {
        "id": "jrMx5_EhkgOk"
      },
      "execution_count": null,
      "outputs": []
    },
    {
      "cell_type": "code",
      "source": [
        "features_3 = selectKBest(df_train, df_test, df_validation, 3)"
      ],
      "metadata": {
        "id": "GrtYDXrFk126"
      },
      "execution_count": null,
      "outputs": []
    },
    {
      "cell_type": "code",
      "source": [
        "\n",
        "import pickle\n",
        "features_3 = []\n",
        "\n",
        "with open(r\"/content/drive/MyDrive/project/feature_3.txt\", \"r\") as f:\n",
        "  for line in f:\n",
        "    features_3.append(str(line.strip()))"
      ],
      "metadata": {
        "id": "TVeqx7lDlx3O"
      },
      "execution_count": null,
      "outputs": []
    },
    {
      "cell_type": "code",
      "source": [
        "def correct_names(columns, orig):\n",
        "  col = []\n",
        "  for m in range(len(orig)):\n",
        "    for n in range(len(columns)):\n",
        "      if columns[n].replace(\" \", \"\") == orig[m].replace(\" \", \"\"):\n",
        "        col.append(columns[m])\n",
        "\n",
        "  return col"
      ],
      "metadata": {
        "id": "pdG5lI23mhmf"
      },
      "execution_count": null,
      "outputs": []
    },
    {
      "cell_type": "code",
      "source": [
        "df_train_vanila = pd.read_csv(r\"/content/drive/MyDrive/project/train_data.csv\", index_col=\"Unnamed: 0\")\n",
        "df_train_vanila = reduce_memory_usage(df_train_vanila, convert_to_category=False)\n",
        "\n",
        "df_test_vanilla = pd.read_csv(r\"/content/drive/MyDrive/project/test_data.csv\", index_col=\"Unnamed: 0\")\n",
        "df_train_vanila = reduce_memory_usage(df_test_vanilla, convert_to_category=False)\n",
        "\n",
        "df_validation_vanilla = pd.read_csv(r\"/content/drive/MyDrive/project/validation_data.csv\", index_col=\"Unnamed: 0\")\n",
        "df_validation_vanilla = reduce_memory_usage(df_validation_vanilla, convert_to_category=False)\n",
        "\n",
        "# Loading the encoder that will be used\n",
        "encoder = LabelEncoder()\n",
        "encoder.classes_ = np.load('/content/drive/MyDrive/project/classes.npy', allow_pickle=True)"
      ],
      "metadata": {
        "id": "H1l7fKZfmkoL"
      },
      "execution_count": null,
      "outputs": []
    },
    {
      "cell_type": "code",
      "source": [
        "df_train_vanila = pd.read_csv(r\"/content/drive/MyDrive/project/train_data.csv\", index_col=\"Unnamed: 0\")\n",
        "df_train_vanila = reduce_memory_usage(df_train_vanila, convert_to_category=False)"
      ],
      "metadata": {
        "id": "UoBrctb9mtds"
      },
      "execution_count": null,
      "outputs": []
    },
    {
      "cell_type": "code",
      "source": [
        "from sklearn.preprocessing import LabelEncoder\n",
        "\n",
        "encoder = LabelEncoder()\n",
        "encoder.fit(df_train_vanila[\"newRating\"])\n"
      ],
      "metadata": {
        "colab": {
          "base_uri": "https://localhost:8080/",
          "height": 74
        },
        "id": "TW5pVvvgmqiR",
        "outputId": "bbfbf943-10f4-494f-88d1-42e5d61970d9"
      },
      "execution_count": null,
      "outputs": [
        {
          "output_type": "execute_result",
          "data": {
            "text/plain": [
              "LabelEncoder()"
            ],
            "text/html": [
              "<style>#sk-container-id-1 {color: black;background-color: white;}#sk-container-id-1 pre{padding: 0;}#sk-container-id-1 div.sk-toggleable {background-color: white;}#sk-container-id-1 label.sk-toggleable__label {cursor: pointer;display: block;width: 100%;margin-bottom: 0;padding: 0.3em;box-sizing: border-box;text-align: center;}#sk-container-id-1 label.sk-toggleable__label-arrow:before {content: \"▸\";float: left;margin-right: 0.25em;color: #696969;}#sk-container-id-1 label.sk-toggleable__label-arrow:hover:before {color: black;}#sk-container-id-1 div.sk-estimator:hover label.sk-toggleable__label-arrow:before {color: black;}#sk-container-id-1 div.sk-toggleable__content {max-height: 0;max-width: 0;overflow: hidden;text-align: left;background-color: #f0f8ff;}#sk-container-id-1 div.sk-toggleable__content pre {margin: 0.2em;color: black;border-radius: 0.25em;background-color: #f0f8ff;}#sk-container-id-1 input.sk-toggleable__control:checked~div.sk-toggleable__content {max-height: 200px;max-width: 100%;overflow: auto;}#sk-container-id-1 input.sk-toggleable__control:checked~label.sk-toggleable__label-arrow:before {content: \"▾\";}#sk-container-id-1 div.sk-estimator input.sk-toggleable__control:checked~label.sk-toggleable__label {background-color: #d4ebff;}#sk-container-id-1 div.sk-label input.sk-toggleable__control:checked~label.sk-toggleable__label {background-color: #d4ebff;}#sk-container-id-1 input.sk-hidden--visually {border: 0;clip: rect(1px 1px 1px 1px);clip: rect(1px, 1px, 1px, 1px);height: 1px;margin: -1px;overflow: hidden;padding: 0;position: absolute;width: 1px;}#sk-container-id-1 div.sk-estimator {font-family: monospace;background-color: #f0f8ff;border: 1px dotted black;border-radius: 0.25em;box-sizing: border-box;margin-bottom: 0.5em;}#sk-container-id-1 div.sk-estimator:hover {background-color: #d4ebff;}#sk-container-id-1 div.sk-parallel-item::after {content: \"\";width: 100%;border-bottom: 1px solid gray;flex-grow: 1;}#sk-container-id-1 div.sk-label:hover label.sk-toggleable__label {background-color: #d4ebff;}#sk-container-id-1 div.sk-serial::before {content: \"\";position: absolute;border-left: 1px solid gray;box-sizing: border-box;top: 0;bottom: 0;left: 50%;z-index: 0;}#sk-container-id-1 div.sk-serial {display: flex;flex-direction: column;align-items: center;background-color: white;padding-right: 0.2em;padding-left: 0.2em;position: relative;}#sk-container-id-1 div.sk-item {position: relative;z-index: 1;}#sk-container-id-1 div.sk-parallel {display: flex;align-items: stretch;justify-content: center;background-color: white;position: relative;}#sk-container-id-1 div.sk-item::before, #sk-container-id-1 div.sk-parallel-item::before {content: \"\";position: absolute;border-left: 1px solid gray;box-sizing: border-box;top: 0;bottom: 0;left: 50%;z-index: -1;}#sk-container-id-1 div.sk-parallel-item {display: flex;flex-direction: column;z-index: 1;position: relative;background-color: white;}#sk-container-id-1 div.sk-parallel-item:first-child::after {align-self: flex-end;width: 50%;}#sk-container-id-1 div.sk-parallel-item:last-child::after {align-self: flex-start;width: 50%;}#sk-container-id-1 div.sk-parallel-item:only-child::after {width: 0;}#sk-container-id-1 div.sk-dashed-wrapped {border: 1px dashed gray;margin: 0 0.4em 0.5em 0.4em;box-sizing: border-box;padding-bottom: 0.4em;background-color: white;}#sk-container-id-1 div.sk-label label {font-family: monospace;font-weight: bold;display: inline-block;line-height: 1.2em;}#sk-container-id-1 div.sk-label-container {text-align: center;}#sk-container-id-1 div.sk-container {/* jupyter's `normalize.less` sets `[hidden] { display: none; }` but bootstrap.min.css set `[hidden] { display: none !important; }` so we also need the `!important` here to be able to override the default hidden behavior on the sphinx rendered scikit-learn.org. See: https://github.com/scikit-learn/scikit-learn/issues/21755 */display: inline-block !important;position: relative;}#sk-container-id-1 div.sk-text-repr-fallback {display: none;}</style><div id=\"sk-container-id-1\" class=\"sk-top-container\"><div class=\"sk-text-repr-fallback\"><pre>LabelEncoder()</pre><b>In a Jupyter environment, please rerun this cell to show the HTML representation or trust the notebook. <br />On GitHub, the HTML representation is unable to render, please try loading this page with nbviewer.org.</b></div><div class=\"sk-container\" hidden><div class=\"sk-item\"><div class=\"sk-estimator sk-toggleable\"><input class=\"sk-toggleable__control sk-hidden--visually\" id=\"sk-estimator-id-1\" type=\"checkbox\" checked><label for=\"sk-estimator-id-1\" class=\"sk-toggleable__label sk-toggleable__label-arrow\">LabelEncoder</label><div class=\"sk-toggleable__content\"><pre>LabelEncoder()</pre></div></div></div></div></div>"
            ]
          },
          "metadata": {},
          "execution_count": 55
        }
      ]
    },
    {
      "cell_type": "code",
      "source": [
        "l1=encoder.transform(df_train_vanila[\"newRating\"])"
      ],
      "metadata": {
        "id": "PVYFEboEoAkd"
      },
      "execution_count": null,
      "outputs": []
    },
    {
      "cell_type": "code",
      "source": [
        "df_train_vanila[\"newRating\"] = l1\n"
      ],
      "metadata": {
        "id": "YlWkDsUqn1El"
      },
      "execution_count": null,
      "outputs": []
    },
    {
      "cell_type": "code",
      "source": [
        "df_train_vanila.hist(column=\"newRating\")"
      ],
      "metadata": {
        "colab": {
          "base_uri": "https://localhost:8080/",
          "height": 600
        },
        "id": "P9idy5FJoKoV",
        "outputId": "722e21fa-d35b-4e29-b822-d293b5f3b09a"
      },
      "execution_count": null,
      "outputs": [
        {
          "output_type": "execute_result",
          "data": {
            "text/plain": [
              "array([[<Axes: title={'center': 'newRating'}>]], dtype=object)"
            ]
          },
          "metadata": {},
          "execution_count": 59
        },
        {
          "output_type": "display_data",
          "data": {
            "text/plain": [
              "<Figure size 800x650 with 1 Axes>"
            ],
            "image/png": "[encoded data removed]"
          },
          "metadata": {}
        }
      ]
    },
    {
      "cell_type": "code",
      "source": [
        "print(df_train_vanila[\"newRating\"].value_counts())"
      ],
      "metadata": {
        "colab": {
          "base_uri": "https://localhost:8080/"
        },
        "id": "4RqGrCgNoR8w",
        "outputId": "10629be4-cfe9-4641-fef3-8a051f48254e"
      },
      "execution_count": null,
      "outputs": [
        {
          "output_type": "stream",
          "name": "stdout",
          "text": [
            "1016    17941\n",
            "942     16728\n",
            "1118    16017\n",
            "1116    15437\n",
            "1115    15016\n",
            "        ...  \n",
            "5         193\n",
            "7         193\n",
            "0         187\n",
            "2         182\n",
            "1         171\n",
            "Name: newRating, Length: 1119, dtype: int64\n"
          ]
        }
      ]
    },
    {
      "cell_type": "code",
      "source": [
        "resample_values = df_train_vanila[\"newRating\"].value_counts()"
      ],
      "metadata": {
        "id": "xnocZQO4oarJ"
      },
      "execution_count": null,
      "outputs": []
    },
    {
      "cell_type": "code",
      "source": [
        "features = correct_names(df_validation_vanilla.columns,features_3)"
      ],
      "metadata": {
        "id": "OQ2Q5vyxoq7Z"
      },
      "execution_count": null,
      "outputs": []
    },
    {
      "cell_type": "code",
      "source": [
        "y_valid = df_validation_vanilla[\"newRating\"]\n",
        "x_valid = new_dataset(df_validation_vanilla, features)"
      ],
      "metadata": {
        "id": "lFG-VA1goux4"
      },
      "execution_count": null,
      "outputs": []
    },
    {
      "cell_type": "code",
      "source": [
        "y_valid = encoder.transform(y_valid)"
      ],
      "metadata": {
        "id": "DGPbB29yo0t7"
      },
      "execution_count": null,
      "outputs": []
    },
    {
      "cell_type": "code",
      "source": [
        "columns = x_valid.columns.to_list()\n",
        "columns.append('newRating')"
      ],
      "metadata": {
        "id": "o82gwYx9o4Ip"
      },
      "execution_count": null,
      "outputs": []
    },
    {
      "cell_type": "code",
      "source": [
        "df_validation = pd.DataFrame(np.c_[x_valid, y_valid], columns=columns)\n",
        "df_validation = reduce_memory_usage(df_validation, convert_to_category=False)\n",
        "df_validation.to_csv(\"/content/drive/MyDrive/project/validation_data.csv\")"
      ],
      "metadata": {
        "id": "Fdfaawilo887"
      },
      "execution_count": null,
      "outputs": []
    },
    {
      "cell_type": "code",
      "source": [
        "y_train_36_SMOTE = df_train_vanila[\"newRating\"]\n"
      ],
      "metadata": {
        "id": "xklDCTXGpAWo"
      },
      "execution_count": null,
      "outputs": []
    },
    {
      "cell_type": "code",
      "source": [
        "x_train_36_SMOTE = new_dataset(df_train_vanila, features)"
      ],
      "metadata": {
        "id": "bdAQ_JZopjr4"
      },
      "execution_count": null,
      "outputs": []
    },
    {
      "cell_type": "code",
      "source": [
        "x_train_36_SMOTE = reduce_memory_usage(x_train_36_SMOTE, convert_to_category=False)"
      ],
      "metadata": {
        "id": "RMCG2eWapnmk"
      },
      "execution_count": null,
      "outputs": []
    },
    {
      "cell_type": "code",
      "source": [
        "oversample = SMOTE(sampling_strategy='auto', k_neighbors=4,random_state=42)\n"
      ],
      "metadata": {
        "id": "y-ZbfzhbrVUe"
      },
      "execution_count": null,
      "outputs": []
    },
    {
      "cell_type": "code",
      "source": [
        "new_X_train, y_train = oversample.fit_resample(X_train, y_train)\n"
      ],
      "metadata": {
        "id": "4AEKzeKdqeZR"
      },
      "execution_count": null,
      "outputs": []
    },
    {
      "cell_type": "code",
      "source": [
        "\n",
        "under = RandomUnderSampler(sampling_strategy='auto',random_state=42)\n",
        "new_X_train_under, y_train_under= under.fit_resample(new_X_train, y_train)"
      ],
      "metadata": {
        "id": "VOdL263fpsG_"
      },
      "execution_count": null,
      "outputs": []
    },
    {
      "cell_type": "code",
      "source": [
        "\n",
        "print(x_train_36_SMOTE.columns)\n",
        "columns = x_train_36_SMOTE.columns.to_list()\n",
        "columns.append('newRating')"
      ],
      "metadata": {
        "colab": {
          "base_uri": "https://localhost:8080/"
        },
        "id": "HHYNKSO_sSVT",
        "outputId": "10b13806-ed4f-412d-ca01-89b3a4e0b11e"
      },
      "execution_count": null,
      "outputs": [
        {
          "output_type": "stream",
          "name": "stdout",
          "text": [
            "Index([], dtype='object')\n"
          ]
        }
      ]
    },
    {
      "cell_type": "code",
      "source": [
        "print(new_X_train_under.shape)\n",
        "print(y_train_under.shape)"
      ],
      "metadata": {
        "colab": {
          "base_uri": "https://localhost:8080/"
        },
        "id": "YTYJoAbSv78_",
        "outputId": "f5bd26c6-ad3b-48b3-cb93-a42cbf38a898"
      },
      "execution_count": null,
      "outputs": [
        {
          "output_type": "stream",
          "name": "stdout",
          "text": [
            "(26562156, 3)\n",
            "(26562156, 1)\n"
          ]
        }
      ]
    },
    {
      "cell_type": "code",
      "source": [
        "df_oversampled = pd.concat([pd.DataFrame(new_X_train_under, columns=features), pd.DataFrame(y_train_under, columns=[\"newRating\"])], axis=1)\n"
      ],
      "metadata": {
        "id": "Jxjx62Bkw0Fm"
      },
      "execution_count": null,
      "outputs": []
    },
    {
      "cell_type": "code",
      "source": [
        "print(df_oversampled[\"newRating\"].value_counts())"
      ],
      "metadata": {
        "colab": {
          "base_uri": "https://localhost:8080/"
        },
        "id": "x5KhWXtlshGn",
        "outputId": "7c5b9941-9555-43d5-f47e-463996ac86c9"
      },
      "execution_count": null,
      "outputs": [
        {
          "output_type": "stream",
          "name": "stdout",
          "text": [
            "Series([], Name: newRating, dtype: int64)\n"
          ]
        }
      ]
    },
    {
      "cell_type": "code",
      "source": [
        "df_oversampled = pd.read_csv(r\"/content/drive/MyDrive/project/oversampled_training_data.csv\", index_col=\"Unnamed: 0\")\n",
        "df_oversampled = reduce_memory_usage(df_oversampled, convert_to_category=False)"
      ],
      "metadata": {
        "id": "xXB4WQWFso9t"
      },
      "execution_count": null,
      "outputs": []
    },
    {
      "cell_type": "code",
      "source": [
        "df_test = pd.read_csv(r\"/content/drive/MyDrive/project/test_data.csv\", index_col=\"Unnamed: 0\")\n",
        "df_test = reduce_memory_usage(df_test, convert_to_category=False)"
      ],
      "metadata": {
        "id": "oP5d0fgRswmr"
      },
      "execution_count": null,
      "outputs": []
    },
    {
      "cell_type": "code",
      "source": [
        "print(len(df_oversampled.columns))"
      ],
      "metadata": {
        "colab": {
          "base_uri": "https://localhost:8080/"
        },
        "id": "lArA_tSKs1f3",
        "outputId": "062dae40-f6b2-4fed-b2a0-e711d7da0f22"
      },
      "execution_count": null,
      "outputs": [
        {
          "output_type": "stream",
          "name": "stdout",
          "text": [
            "1\n"
          ]
        }
      ]
    },
    {
      "cell_type": "code",
      "source": [
        "features = correct_names(df_test.columns,features_3)"
      ],
      "metadata": {
        "id": "B_TjX2TTs5ZW"
      },
      "execution_count": null,
      "outputs": []
    },
    {
      "cell_type": "code",
      "source": [
        "encoder = LabelEncoder()\n",
        "encoder.classes_ = np.load('/content/drive/MyDrive/project/classes.npy', allow_pickle=True)\n",
        "#df_test_vanilla[\" Label\"] = encoder.transform(df_test_vanilla[\" Label\"])"
      ],
      "metadata": {
        "id": "OUeO_ExEtReD"
      },
      "execution_count": null,
      "outputs": []
    },
    {
      "cell_type": "code",
      "source": [
        "x_test_less = new_dataset(df_test_vanilla, features)"
      ],
      "metadata": {
        "id": "4XUq8FyLthZw"
      },
      "execution_count": null,
      "outputs": []
    },
    {
      "cell_type": "code",
      "source": [
        "columns = x_test_less.columns.to_list()\n",
        "columns.append('newRating')"
      ],
      "metadata": {
        "id": "H_KD1DIUtpGr"
      },
      "execution_count": null,
      "outputs": []
    },
    {
      "cell_type": "code",
      "source": [
        "df_test = pd.DataFrame(np.c_[x_test_less, df_test_vanilla[\"newRating\"]], columns=columns)\n",
        "df_test = reduce_memory_usage(df_test, convert_to_category=False)\n",
        "df_test.to_csv(\"/content/drive/MyDrive/project/test_data.csv\")"
      ],
      "metadata": {
        "id": "nO0pi2Kht48s"
      },
      "execution_count": null,
      "outputs": []
    },
    {
      "cell_type": "code",
      "source": [
        "def create_baseline():\n",
        "\tmodel = Sequential()\n",
        "\tmodel.add(Dense(128, input_dim=3, activation='relu'))\n",
        "\tmodel.add(Dropout(0.2))\n",
        "\tmodel.add(Dense(64, activation='relu'))\n",
        "\tmodel.add(Dropout(0.2))\n",
        "\tmodel.add(Dense(32, activation='relu'))\n",
        "\tmodel.add(Dropout(0.2))\n",
        "\tmodel.add(Dense(1, activation='softmax'))\n",
        "\tmodel.compile(loss='sparse_categorical_crossentropy', optimizer='adam', metrics=['accuracy'])\n",
        "\treturn model"
      ],
      "metadata": {
        "id": "F_YA5Rq9xLv-"
      },
      "execution_count": null,
      "outputs": []
    },
    {
      "cell_type": "code",
      "source": [
        "model_v1 = create_baseline()\n",
        "model_v1.summary()"
      ],
      "metadata": {
        "colab": {
          "base_uri": "https://localhost:8080/"
        },
        "id": "DSiVhGPQxO9U",
        "outputId": "48a24435-e076-4753-df0a-8d8a4a4f9918"
      },
      "execution_count": null,
      "outputs": [
        {
          "output_type": "stream",
          "name": "stdout",
          "text": [
            "Model: \"sequential_1\"\n",
            "_________________________________________________________________\n",
            " Layer (type)                Output Shape              Param #   \n",
            "=================================================================\n",
            " dense_4 (Dense)             (None, 128)               512       \n",
            "                                                                 \n",
            " dropout_3 (Dropout)         (None, 128)               0         \n",
            "                                                                 \n",
            " dense_5 (Dense)             (None, 64)                8256      \n",
            "                                                                 \n",
            " dropout_4 (Dropout)         (None, 64)                0         \n",
            "                                                                 \n",
            " dense_6 (Dense)             (None, 32)                2080      \n",
            "                                                                 \n",
            " dropout_5 (Dropout)         (None, 32)                0         \n",
            "                                                                 \n",
            " dense_7 (Dense)             (None, 1)                 33        \n",
            "                                                                 \n",
            "=================================================================\n",
            "Total params: 10881 (42.50 KB)\n",
            "Trainable params: 10881 (42.50 KB)\n",
            "Non-trainable params: 0 (0.00 Byte)\n",
            "_________________________________________________________________\n"
          ]
        }
      ]
    },
    {
      "cell_type": "code",
      "source": [
        "normalizer = Normalizer()\n",
        "standardizer = PowerTransformer(method='yeo-johnson')"
      ],
      "metadata": {
        "id": "g97DVxwrxU7E"
      },
      "execution_count": null,
      "outputs": []
    },
    {
      "cell_type": "code",
      "source": [
        "X_train =pd.read_csv('/content/drive/MyDrive/project/train_data.csv')\n",
        "X_test = pd.read_csv('/content/drive/MyDrive/project/test_data.csv')\n"
      ],
      "metadata": {
        "id": "5SzaAp6AyB-3"
      },
      "execution_count": null,
      "outputs": []
    },
    {
      "cell_type": "code",
      "source": [
        "df_oversampled = pd.read_csv('/content/drive/MyDrive/project/oversampled_training_data.csv')\n"
      ],
      "metadata": {
        "id": "-YcAXeJxzQBt"
      },
      "execution_count": null,
      "outputs": []
    },
    {
      "cell_type": "code",
      "source": [
        "print(df_oversampled.columns)"
      ],
      "metadata": {
        "colab": {
          "base_uri": "https://localhost:8080/"
        },
        "id": "H_l_6q7Sy8JN",
        "outputId": "6bb47e57-063f-4e83-b059-f8bd3446da05"
      },
      "execution_count": null,
      "outputs": [
        {
          "output_type": "stream",
          "name": "stdout",
          "text": [
            "Index(['Unnamed: 0', 'newRating'], dtype='object')\n"
          ]
        }
      ]
    },
    {
      "cell_type": "code",
      "source": [
        "early_stop = tf.keras.callbacks.EarlyStopping(monitor='val_loss',\n",
        "                        min_delta=0,\n",
        "                        patience=5,\n",
        "                        verbose=1,\n",
        "                        restore_best_weights=True)\n",
        "\n",
        "# Used to avoid overfitting by checking the accuracy of the test dataset\n",
        "early_stop_accuracy = tf.keras.callbacks.EarlyStopping(monitor='val_accuracy',\n",
        "                        min_delta=0,\n",
        "                        patience=5,\n",
        "                        verbose=1,\n",
        "                        restore_best_weights=True)\n",
        "\n",
        "# Reducing the learning parameter if a Plateau is detected\n",
        "reduce_lr = tf.keras.callbacks.ReduceLROnPlateau(monitor='val_accuracy',\n",
        "                                patience=3,\n",
        "                                verbose=1,\n",
        "                                factor=0.2,\n",
        "                                min_lr=1e-6)"
      ],
      "metadata": {
        "id": "uF-TzCw62Bqn"
      },
      "execution_count": null,
      "outputs": []
    },
    {
      "cell_type": "code",
      "source": [
        "X_train =pd.read_csv('/content/drive/MyDrive/project/train_data.csv')\n",
        "X_test = pd.read_csv('/content/drive/MyDrive/project/test_data.csv')\n",
        "df_oversampled = pd.read_csv('/content/drive/MyDrive/project/oversampled_training_data.csv')\n"
      ],
      "metadata": {
        "id": "kTf8ZyZg2ihw"
      },
      "execution_count": null,
      "outputs": []
    },
    {
      "cell_type": "code",
      "source": [
        "print(len(X_train))\n",
        "print(len(X_test))\n",
        "print(len(df_oversampled))"
      ],
      "metadata": {
        "colab": {
          "base_uri": "https://localhost:8080/"
        },
        "id": "9MC5pCih2qwV",
        "outputId": "24592930-c20d-43f3-e10b-c457738c0b70"
      },
      "execution_count": null,
      "outputs": [
        {
          "output_type": "stream",
          "name": "stdout",
          "text": [
            "4426043\n",
            "1383139\n",
            "26562156\n"
          ]
        }
      ]
    },
    {
      "cell_type": "code",
      "source": [
        "X_train=X_train.iloc[:1383139]\n",
        "\n",
        "df_oversampled=df_oversampled.iloc[:1383139]"
      ],
      "metadata": {
        "id": "ya6DWRVT5Z0Y"
      },
      "execution_count": null,
      "outputs": []
    },
    {
      "cell_type": "code",
      "source": [
        "print(len(X_train))\n",
        "print(len(X_test))\n",
        "print(len(df_oversampled))"
      ],
      "metadata": {
        "colab": {
          "base_uri": "https://localhost:8080/"
        },
        "id": "-kp-T8NG57_l",
        "outputId": "3d5ecc07-f908-46cb-9404-ab956dfb5c95"
      },
      "execution_count": null,
      "outputs": [
        {
          "output_type": "stream",
          "name": "stdout",
          "text": [
            "1383139\n",
            "1383139\n",
            "1383139\n"
          ]
        }
      ]
    },
    {
      "cell_type": "code",
      "source": [
        "X_train, X_test, y_train, y_test = train_test_split(X_train, df_oversampled, test_size=0.2, random_state=42)\n"
      ],
      "metadata": {
        "id": "07vuG8Jv8gJu"
      },
      "execution_count": null,
      "outputs": []
    },
    {
      "cell_type": "code",
      "source": [
        "df_test=pd.read_csv(\"/content/drive/MyDrive/project/test_data.csv\")"
      ],
      "metadata": {
        "id": "cxI3vUhm6HG3"
      },
      "execution_count": null,
      "outputs": []
    },
    {
      "cell_type": "code",
      "source": [
        "model = Sequential()\n",
        "model.add(LSTM(50, input_shape=(1,3)))\n",
        "model.add(GRU(50))\n",
        "model.add(Dense(1))\n",
        "model.compile(optimizer='adam', loss='mean_squared_error')  # Adjust loss based on your problem\n"
      ],
      "metadata": {
        "id": "kODf-9QX8DaI"
      },
      "execution_count": null,
      "outputs": []
    },
    {
      "cell_type": "code",
      "source": [
        "csv_file_path = '/content/drive/MyDrive/project/rating.csv'\n",
        "df = pd.read_csv(csv_file_path)"
      ],
      "metadata": {
        "id": "t8yBn_mo9SdY"
      },
      "execution_count": 5,
      "outputs": []
    },
    {
      "cell_type": "code",
      "source": [
        "X_train = df[['rank', 'participant', 'oldRating']]\n",
        "y_train = df['newRating']\n"
      ],
      "metadata": {
        "id": "A2QoZbqB9aSj"
      },
      "execution_count": 6,
      "outputs": []
    },
    {
      "cell_type": "code",
      "source": [
        "from tensorflow.keras.models import Sequential\n",
        "from tensorflow.keras.layers import LSTM, GRU, Dense\n",
        "\n",
        "# Assuming you have a DataFrame df with columns 'rank', 'participant', 'oldrating', 'newRating'\n",
        "\n",
        "# Separate features and target variable\n",
        "X_train = df[['rank', 'participant', 'oldRating']]\n",
        "y_train = df['newRating']\n",
        "\n",
        "# Reshape features for LSTM and GRU layers\n",
        "X_train = X_train.values.reshape((X_train.shape[0], 1, X_train.shape[1]))\n",
        "\n",
        "# Create LSTM + GRU model\n",
        "model = Sequential()\n",
        "model.add(LSTM(50, input_shape=(1, 3), activation='relu', return_sequences=True))  # Return sequences for the LSTM layer\n",
        "model.add(GRU(50, activation='relu'))  # No return_sequences for the GRU layer\n",
        "model.add(Dense(1, activation='linear'))\n",
        "\n",
        "# Compile the model\n",
        "model.compile(optimizer='adam', loss='mean_squared_error')\n",
        "\n",
        "# Print the model summary\n",
        "model.summary()\n",
        "\n",
        "# Train the model\n",
        "model.fit(X_train, y_train, epochs=10, batch_size=128, verbose=1, validation_split=0.2,callbacks=[early_stop, reduce_lr, early_stop_accuracy])\n"
      ],
      "metadata": {
        "id": "6A0kRwCk-p7c"
      },
      "execution_count": null,
      "outputs": []
    },
    {
      "cell_type": "code",
      "source": [
        "model.save('/content/drive/MyDrive/project/keras_model_v1_2.h5')"
      ],
      "metadata": {
        "colab": {
          "base_uri": "https://localhost:8080/"
        },
        "id": "6BIPU-nI_kqH",
        "outputId": "f9f8b1c2-387b-47a7-b764-5af4b61e812e"
      },
      "execution_count": null,
      "outputs": [
        {
          "output_type": "stream",
          "name": "stderr",
          "text": [
            "/usr/local/lib/python3.10/dist-packages/keras/src/engine/training.py:3103: UserWarning: You are saving your model as an HDF5 file via `model.save()`. This file format is considered legacy. We recommend using instead the native Keras format, e.g. `model.save('my_model.keras')`.\n",
            "  saving_api.save_model(\n"
          ]
        }
      ]
    },
    {
      "cell_type": "code",
      "execution_count": 9,
      "metadata": {
        "id": "IOnoXRbRfTy2"
      },
      "outputs": [],
      "source": [
        "from keras.models import load_model\n",
        "\n",
        "model = load_model('/content/drive/MyDrive/project/keras_model_v1_2.h5')"
      ]
    },
    {
      "cell_type": "code",
      "source": [
        "!pip install pyngrok\n"
      ],
      "metadata": {
        "colab": {
          "base_uri": "https://localhost:8080/"
        },
        "id": "gUfcMfCvK-eP",
        "outputId": "88059924-a4e4-435c-f8e0-05b0d186fbb2"
      },
      "execution_count": 10,
      "outputs": [
        {
          "output_type": "stream",
          "name": "stdout",
          "text": [
            "Collecting pyngrok\n",
            "  Downloading pyngrok-7.0.3-py3-none-any.whl (21 kB)\n",
            "Requirement already satisfied: PyYAML in /usr/local/lib/python3.10/dist-packages (from pyngrok) (6.0.1)\n",
            "Installing collected packages: pyngrok\n",
            "Successfully installed pyngrok-7.0.3\n"
          ]
        }
      ]
    },
    {
      "cell_type": "code",
      "source": [
        "!pip install -U flask-cors"
      ],
      "metadata": {
        "colab": {
          "base_uri": "https://localhost:8080/"
        },
        "id": "NqfyAKYifmma",
        "outputId": "c3dbfa8d-63a3-42de-c43b-c7e4d1bdb484"
      },
      "execution_count": 38,
      "outputs": [
        {
          "output_type": "stream",
          "name": "stdout",
          "text": [
            "Collecting flask-cors\n",
            "  Downloading Flask_Cors-4.0.0-py2.py3-none-any.whl (14 kB)\n",
            "Requirement already satisfied: Flask>=0.9 in /usr/local/lib/python3.10/dist-packages (from flask-cors) (2.2.5)\n",
            "Requirement already satisfied: Werkzeug>=2.2.2 in /usr/local/lib/python3.10/dist-packages (from Flask>=0.9->flask-cors) (3.0.1)\n",
            "Requirement already satisfied: Jinja2>=3.0 in /usr/local/lib/python3.10/dist-packages (from Flask>=0.9->flask-cors) (3.1.2)\n",
            "Requirement already satisfied: itsdangerous>=2.0 in /usr/local/lib/python3.10/dist-packages (from Flask>=0.9->flask-cors) (2.1.2)\n",
            "Requirement already satisfied: click>=8.0 in /usr/local/lib/python3.10/dist-packages (from Flask>=0.9->flask-cors) (8.1.7)\n",
            "Requirement already satisfied: MarkupSafe>=2.0 in /usr/local/lib/python3.10/dist-packages (from Jinja2>=3.0->Flask>=0.9->flask-cors) (2.1.3)\n",
            "Installing collected packages: flask-cors\n",
            "Successfully installed flask-cors-4.0.0\n"
          ]
        }
      ]
    },
    {
      "cell_type": "code",
      "source": [
        "from flask import Flask\n",
        "from pyngrok import ngrok"
      ],
      "metadata": {
        "id": "IV6DGQ-YiVeA"
      },
      "execution_count": 39,
      "outputs": []
    },
    {
      "cell_type": "code",
      "source": [
        "port_no = 5000"
      ],
      "metadata": {
        "id": "A0yNh2rpiZ4v"
      },
      "execution_count": 40,
      "outputs": []
    },
    {
      "cell_type": "code",
      "source": [
        "from flask import jsonify,request # <- `jsonify` instead of `json`\n",
        "import numpy as np\n",
        "import json\n",
        "from flask_cors import CORS\n",
        "\n",
        "from keras.models import load_model\n",
        "\n",
        "app = Flask(__name__)\n",
        "CORS(app)\n",
        "\n",
        "ngrok.set_auth_token(\"2a4WkHoKa1hhEpn0BbQ4GPk0XGt_5jkTKZRKZM6WnjbBZhgJw\")\n",
        "public_url =  ngrok.connect(port_no).public_url\n",
        "print(public_url)\n",
        "\n",
        "\n",
        "\n",
        "\n",
        "\n",
        "\n",
        "\n",
        "\n"
      ],
      "metadata": {
        "colab": {
          "base_uri": "https://localhost:8080/"
        },
        "id": "fbXzgTQaieZl",
        "outputId": "b4fdd83c-23c1-4bf3-8c35-b696ad3e6650"
      },
      "execution_count": 41,
      "outputs": [
        {
          "output_type": "stream",
          "name": "stdout",
          "text": [
            "https://9f1d-34-127-86-240.ngrok-free.app\n"
          ]
        }
      ]
    },
    {
      "cell_type": "code",
      "source": [
        "@app.route('/', methods=['POST'])\n",
        "def predict():\n",
        "    try:\n",
        "        data = request.json\n",
        "        column1 = data['rank']\n",
        "        column2 = data['participant']\n",
        "        column3 = data['oldRating']\n",
        "        # print(column1)\n",
        "        numpy_array = np.array((column1, column2, column3))\n",
        "        # print(numpy_array)\n",
        "\n",
        "        # Load the Keras model\n",
        "        numpy_array=numpy_array.reshape((1,1,3))\n",
        "\n",
        "        # Make predictions\n",
        "        predictions = model.predict(numpy_array)\n",
        "        predictions_list = predictions.tolist()\n",
        "\n",
        "        # Convert predictions to JSON\n",
        "        json_string = json.dumps({'predictions': predictions_list})\n",
        "\n",
        "        return jsonify(json_string)\n",
        "    except Exception as e:\n",
        "        return jsonify({'error': str(e)})\n",
        "\n",
        "\n",
        "app.run(port=port_no)"
      ],
      "metadata": {
        "colab": {
          "base_uri": "https://localhost:8080/"
        },
        "id": "0on7bm_VY7Iw",
        "outputId": "6140c5a2-4c26-4583-b492-213aa253ba18"
      },
      "execution_count": 42,
      "outputs": [
        {
          "metadata": {
            "tags": null
          },
          "name": "stdout",
          "output_type": "stream",
          "text": [
            " * Serving Flask app '__main__'\n",
            " * Debug mode: off\n"
          ]
        },
        {
          "metadata": {
            "tags": null
          },
          "name": "stderr",
          "output_type": "stream",
          "text": [
            "INFO:werkzeug:\u001b[31m\u001b[1mWARNING: This is a development server. Do not use it in a production deployment. Use a production WSGI server instead.\u001b[0m\n",
            " * Running on http://127.0.0.1:5000\n",
            "INFO:werkzeug:\u001b[33mPress CTRL+C to quit\u001b[0m\n"
          ]
        },
        {
          "metadata": {
            "tags": null
          },
          "name": "stdout",
          "output_type": "stream",
          "text": [
            "[1 2 3]\n",
            "1/1 [==============================] - 0s 106ms/step\n"
          ]
        },
        {
          "metadata": {
            "tags": null
          },
          "name": "stderr",
          "output_type": "stream",
          "text": [
            "INFO:werkzeug:127.0.0.1 - - [27/Dec/2023 13:38:02] \"POST / HTTP/1.1\" 200 -\n",
            "INFO:werkzeug:127.0.0.1 - - [27/Dec/2023 13:38:20] \"POST / HTTP/1.1\" 200 -\n",
            "INFO:werkzeug:127.0.0.1 - - [27/Dec/2023 13:38:49] \"POST / HTTP/1.1\" 200 -\n"
          ]
        },
        {
          "metadata": {
            "tags": null
          },
          "name": "stdout",
          "output_type": "stream",
          "text": [
            "[1 2 3]\n",
            "1/1 [==============================] - 0s 119ms/step\n"
          ]
        },
        {
          "metadata": {
            "tags": null
          },
          "name": "stderr",
          "output_type": "stream",
          "text": [
            "INFO:werkzeug:127.0.0.1 - - [27/Dec/2023 13:39:48] \"POST / HTTP/1.1\" 200 -\n",
            "INFO:werkzeug:127.0.0.1 - - [27/Dec/2023 13:40:02] \"POST / HTTP/1.1\" 200 -\n",
            "INFO:werkzeug:127.0.0.1 - - [27/Dec/2023 13:40:47] \"POST / HTTP/1.1\" 200 -\n",
            "INFO:werkzeug:127.0.0.1 - - [27/Dec/2023 13:42:09] \"POST / HTTP/1.1\" 200 -\n"
          ]
        },
        {
          "metadata": {
            "tags": null
          },
          "name": "stdout",
          "output_type": "stream",
          "text": [
            "[1 2 3]\n",
            "1/1 [==============================] - 0s 26ms/step\n"
          ]
        },
        {
          "output_type": "stream",
          "name": "stderr",
          "text": [
            "INFO:werkzeug:127.0.0.1 - - [27/Dec/2023 13:52:47] \"POST / HTTP/1.1\" 200 -\n",
            "INFO:werkzeug:127.0.0.1 - - [27/Dec/2023 13:53:00] \"POST / HTTP/1.1\" 200 -\n",
            "INFO:werkzeug:127.0.0.1 - - [27/Dec/2023 14:10:31] \"POST / HTTP/1.1\" 200 -\n",
            "INFO:werkzeug:127.0.0.1 - - [27/Dec/2023 14:12:15] \"POST / HTTP/1.1\" 200 -\n",
            "INFO:werkzeug:127.0.0.1 - - [27/Dec/2023 14:12:55] \"POST / HTTP/1.1\" 200 -\n",
            "INFO:werkzeug:127.0.0.1 - - [27/Dec/2023 14:13:13] \"POST / HTTP/1.1\" 200 -\n",
            "INFO:werkzeug:127.0.0.1 - - [27/Dec/2023 14:13:22] \"POST / HTTP/1.1\" 200 -\n",
            "INFO:werkzeug:127.0.0.1 - - [27/Dec/2023 14:13:27] \"POST / HTTP/1.1\" 200 -\n",
            "INFO:werkzeug:127.0.0.1 - - [27/Dec/2023 14:17:05] \"OPTIONS / HTTP/1.1\" 200 -\n"
          ]
        },
        {
          "output_type": "stream",
          "name": "stdout",
          "text": [
            "['1' '2' '3']\n"
          ]
        },
        {
          "output_type": "stream",
          "name": "stderr",
          "text": [
            "INFO:werkzeug:127.0.0.1 - - [27/Dec/2023 14:17:06] \"POST / HTTP/1.1\" 200 -\n",
            "INFO:werkzeug:127.0.0.1 - - [27/Dec/2023 14:18:08] \"OPTIONS / HTTP/1.1\" 200 -\n",
            "INFO:werkzeug:127.0.0.1 - - [27/Dec/2023 14:18:09] \"POST / HTTP/1.1\" 200 -\n"
          ]
        },
        {
          "output_type": "stream",
          "name": "stdout",
          "text": [
            "['1' '2' '3']\n"
          ]
        },
        {
          "output_type": "stream",
          "name": "stderr",
          "text": [
            "INFO:werkzeug:127.0.0.1 - - [27/Dec/2023 14:21:49] \"OPTIONS / HTTP/1.1\" 200 -\n"
          ]
        },
        {
          "output_type": "stream",
          "name": "stdout",
          "text": [
            "[1 2 3]\n",
            "1/1 [==============================] - 0s 27ms/step\n"
          ]
        },
        {
          "output_type": "stream",
          "name": "stderr",
          "text": [
            "INFO:werkzeug:127.0.0.1 - - [27/Dec/2023 14:21:49] \"POST / HTTP/1.1\" 200 -\n",
            "INFO:werkzeug:127.0.0.1 - - [27/Dec/2023 14:24:09] \"OPTIONS / HTTP/1.1\" 200 -\n"
          ]
        },
        {
          "output_type": "stream",
          "name": "stdout",
          "text": [
            "[1 2 3]\n",
            "1/1 [==============================] - 0s 23ms/step\n"
          ]
        },
        {
          "output_type": "stream",
          "name": "stderr",
          "text": [
            "INFO:werkzeug:127.0.0.1 - - [27/Dec/2023 14:24:10] \"POST / HTTP/1.1\" 200 -\n",
            "INFO:werkzeug:127.0.0.1 - - [27/Dec/2023 14:26:11] \"OPTIONS / HTTP/1.1\" 200 -\n"
          ]
        },
        {
          "output_type": "stream",
          "name": "stdout",
          "text": [
            "[1 2 3]\n",
            "1/1 [==============================] - 0s 46ms/step\n"
          ]
        },
        {
          "output_type": "stream",
          "name": "stderr",
          "text": [
            "INFO:werkzeug:127.0.0.1 - - [27/Dec/2023 14:26:12] \"POST / HTTP/1.1\" 200 -\n",
            "INFO:werkzeug:127.0.0.1 - - [27/Dec/2023 14:27:05] \"OPTIONS / HTTP/1.1\" 200 -\n"
          ]
        },
        {
          "output_type": "stream",
          "name": "stdout",
          "text": [
            "[1 2 3]\n",
            "1/1 [==============================] - 0s 23ms/step\n"
          ]
        },
        {
          "output_type": "stream",
          "name": "stderr",
          "text": [
            "INFO:werkzeug:127.0.0.1 - - [27/Dec/2023 14:27:05] \"POST / HTTP/1.1\" 200 -\n",
            "INFO:werkzeug:127.0.0.1 - - [27/Dec/2023 14:27:47] \"OPTIONS / HTTP/1.1\" 200 -\n"
          ]
        },
        {
          "output_type": "stream",
          "name": "stdout",
          "text": [
            "[1 2 3]\n",
            "1/1 [==============================] - 0s 23ms/step\n"
          ]
        },
        {
          "output_type": "stream",
          "name": "stderr",
          "text": [
            "INFO:werkzeug:127.0.0.1 - - [27/Dec/2023 14:27:47] \"POST / HTTP/1.1\" 200 -\n",
            "INFO:werkzeug:127.0.0.1 - - [27/Dec/2023 14:28:14] \"OPTIONS / HTTP/1.1\" 200 -\n"
          ]
        },
        {
          "output_type": "stream",
          "name": "stdout",
          "text": [
            "[1 2 3]\n",
            "1/1 [==============================] - 0s 26ms/step\n"
          ]
        },
        {
          "output_type": "stream",
          "name": "stderr",
          "text": [
            "INFO:werkzeug:127.0.0.1 - - [27/Dec/2023 14:28:15] \"POST / HTTP/1.1\" 200 -\n",
            "INFO:werkzeug:127.0.0.1 - - [27/Dec/2023 14:28:34] \"OPTIONS / HTTP/1.1\" 200 -\n"
          ]
        },
        {
          "output_type": "stream",
          "name": "stdout",
          "text": [
            "[1 2 3]\n",
            "1/1 [==============================] - 0s 20ms/step\n"
          ]
        },
        {
          "output_type": "stream",
          "name": "stderr",
          "text": [
            "INFO:werkzeug:127.0.0.1 - - [27/Dec/2023 14:28:35] \"POST / HTTP/1.1\" 200 -\n",
            "INFO:werkzeug:127.0.0.1 - - [27/Dec/2023 14:29:02] \"OPTIONS / HTTP/1.1\" 200 -\n"
          ]
        },
        {
          "output_type": "stream",
          "name": "stdout",
          "text": [
            "[1 2 3]\n",
            "1/1 [==============================] - 0s 24ms/step\n"
          ]
        },
        {
          "output_type": "stream",
          "name": "stderr",
          "text": [
            "INFO:werkzeug:127.0.0.1 - - [27/Dec/2023 14:29:03] \"POST / HTTP/1.1\" 200 -\n",
            "INFO:werkzeug:127.0.0.1 - - [27/Dec/2023 14:29:22] \"OPTIONS / HTTP/1.1\" 200 -\n"
          ]
        },
        {
          "output_type": "stream",
          "name": "stdout",
          "text": [
            "[1 2 3]\n",
            "1/1 [==============================] - 0s 32ms/step\n"
          ]
        },
        {
          "output_type": "stream",
          "name": "stderr",
          "text": [
            "INFO:werkzeug:127.0.0.1 - - [27/Dec/2023 14:29:22] \"POST / HTTP/1.1\" 200 -\n",
            "INFO:werkzeug:127.0.0.1 - - [27/Dec/2023 14:30:05] \"OPTIONS / HTTP/1.1\" 200 -\n"
          ]
        },
        {
          "output_type": "stream",
          "name": "stdout",
          "text": [
            "[1 2 3]\n",
            "1/1 [==============================] - 0s 23ms/step\n"
          ]
        },
        {
          "output_type": "stream",
          "name": "stderr",
          "text": [
            "INFO:werkzeug:127.0.0.1 - - [27/Dec/2023 14:30:06] \"POST / HTTP/1.1\" 200 -\n",
            "INFO:werkzeug:127.0.0.1 - - [27/Dec/2023 14:30:12] \"OPTIONS / HTTP/1.1\" 200 -\n"
          ]
        },
        {
          "output_type": "stream",
          "name": "stdout",
          "text": [
            "[1 2 3]\n",
            "1/1 [==============================] - 0s 31ms/step\n"
          ]
        },
        {
          "output_type": "stream",
          "name": "stderr",
          "text": [
            "INFO:werkzeug:127.0.0.1 - - [27/Dec/2023 14:30:13] \"POST / HTTP/1.1\" 200 -\n",
            "INFO:werkzeug:127.0.0.1 - - [27/Dec/2023 14:31:33] \"OPTIONS / HTTP/1.1\" 200 -\n"
          ]
        },
        {
          "output_type": "stream",
          "name": "stdout",
          "text": [
            "[1 2 3]\n",
            "1/1 [==============================] - 0s 30ms/step\n"
          ]
        },
        {
          "output_type": "stream",
          "name": "stderr",
          "text": [
            "INFO:werkzeug:127.0.0.1 - - [27/Dec/2023 14:31:33] \"POST / HTTP/1.1\" 200 -\n",
            "INFO:werkzeug:127.0.0.1 - - [27/Dec/2023 14:32:36] \"OPTIONS / HTTP/1.1\" 200 -\n"
          ]
        },
        {
          "output_type": "stream",
          "name": "stdout",
          "text": [
            "[1 2 3]\n",
            "1/1 [==============================] - 0s 32ms/step\n"
          ]
        },
        {
          "output_type": "stream",
          "name": "stderr",
          "text": [
            "INFO:werkzeug:127.0.0.1 - - [27/Dec/2023 14:32:37] \"POST / HTTP/1.1\" 200 -\n",
            "INFO:werkzeug:127.0.0.1 - - [27/Dec/2023 14:33:10] \"OPTIONS / HTTP/1.1\" 200 -\n"
          ]
        },
        {
          "output_type": "stream",
          "name": "stdout",
          "text": [
            "[1 2 3]\n",
            "1/1 [==============================] - 0s 23ms/step\n"
          ]
        },
        {
          "output_type": "stream",
          "name": "stderr",
          "text": [
            "INFO:werkzeug:127.0.0.1 - - [27/Dec/2023 14:33:11] \"POST / HTTP/1.1\" 200 -\n",
            "INFO:werkzeug:127.0.0.1 - - [27/Dec/2023 14:33:39] \"OPTIONS / HTTP/1.1\" 200 -\n"
          ]
        },
        {
          "output_type": "stream",
          "name": "stdout",
          "text": [
            "[1 2 3]\n",
            "1/1 [==============================] - 0s 33ms/step\n"
          ]
        },
        {
          "output_type": "stream",
          "name": "stderr",
          "text": [
            "INFO:werkzeug:127.0.0.1 - - [27/Dec/2023 14:33:40] \"POST / HTTP/1.1\" 200 -\n",
            "INFO:werkzeug:127.0.0.1 - - [27/Dec/2023 14:34:31] \"OPTIONS / HTTP/1.1\" 200 -\n"
          ]
        },
        {
          "output_type": "stream",
          "name": "stdout",
          "text": [
            "[1 2 3]\n",
            "1/1 [==============================] - 0s 33ms/step\n"
          ]
        },
        {
          "output_type": "stream",
          "name": "stderr",
          "text": [
            "INFO:werkzeug:127.0.0.1 - - [27/Dec/2023 14:34:32] \"POST / HTTP/1.1\" 200 -\n",
            "INFO:werkzeug:127.0.0.1 - - [27/Dec/2023 14:34:48] \"OPTIONS / HTTP/1.1\" 200 -\n"
          ]
        },
        {
          "output_type": "stream",
          "name": "stdout",
          "text": [
            "[1 2 3]\n",
            "1/1 [==============================] - 0s 24ms/step\n"
          ]
        },
        {
          "output_type": "stream",
          "name": "stderr",
          "text": [
            "INFO:werkzeug:127.0.0.1 - - [27/Dec/2023 14:34:48] \"POST / HTTP/1.1\" 200 -\n",
            "INFO:werkzeug:127.0.0.1 - - [27/Dec/2023 14:35:00] \"OPTIONS / HTTP/1.1\" 200 -\n"
          ]
        },
        {
          "output_type": "stream",
          "name": "stdout",
          "text": [
            "[1 2 3]\n",
            "1/1 [==============================] - 0s 20ms/step\n"
          ]
        },
        {
          "output_type": "stream",
          "name": "stderr",
          "text": [
            "INFO:werkzeug:127.0.0.1 - - [27/Dec/2023 14:35:01] \"POST / HTTP/1.1\" 200 -\n",
            "INFO:werkzeug:127.0.0.1 - - [27/Dec/2023 14:38:40] \"OPTIONS / HTTP/1.1\" 200 -\n"
          ]
        },
        {
          "output_type": "stream",
          "name": "stdout",
          "text": [
            "[1 2 3]\n",
            "1/1 [==============================] - 0s 27ms/step\n"
          ]
        },
        {
          "output_type": "stream",
          "name": "stderr",
          "text": [
            "INFO:werkzeug:127.0.0.1 - - [27/Dec/2023 14:38:41] \"POST / HTTP/1.1\" 200 -\n",
            "INFO:werkzeug:127.0.0.1 - - [27/Dec/2023 14:40:22] \"OPTIONS / HTTP/1.1\" 200 -\n"
          ]
        },
        {
          "output_type": "stream",
          "name": "stdout",
          "text": [
            "[1 2 3]\n",
            "1/1 [==============================] - 0s 23ms/step\n"
          ]
        },
        {
          "output_type": "stream",
          "name": "stderr",
          "text": [
            "INFO:werkzeug:127.0.0.1 - - [27/Dec/2023 14:40:23] \"POST / HTTP/1.1\" 200 -\n",
            "INFO:werkzeug:127.0.0.1 - - [27/Dec/2023 14:41:45] \"OPTIONS / HTTP/1.1\" 200 -\n"
          ]
        },
        {
          "output_type": "stream",
          "name": "stdout",
          "text": [
            "[1 2 3]\n",
            "1/1 [==============================] - 0s 20ms/step\n"
          ]
        },
        {
          "output_type": "stream",
          "name": "stderr",
          "text": [
            "INFO:werkzeug:127.0.0.1 - - [27/Dec/2023 14:41:46] \"POST / HTTP/1.1\" 200 -\n",
            "INFO:werkzeug:127.0.0.1 - - [27/Dec/2023 14:43:37] \"OPTIONS / HTTP/1.1\" 200 -\n"
          ]
        },
        {
          "output_type": "stream",
          "name": "stdout",
          "text": [
            "[1 2 3]\n",
            "1/1 [==============================] - 0s 28ms/step\n"
          ]
        },
        {
          "output_type": "stream",
          "name": "stderr",
          "text": [
            "INFO:werkzeug:127.0.0.1 - - [27/Dec/2023 14:43:38] \"POST / HTTP/1.1\" 200 -\n"
          ]
        }
      ]
    }
  ],
  "metadata": {
    "colab": {
      "provenance": []
    },
    "kernelspec": {
      "display_name": "Python 3",
      "name": "python3"
    },
    "language_info": {
      "name": "python"
    }
  },
  "nbformat": 4,
  "nbformat_minor": 0
}